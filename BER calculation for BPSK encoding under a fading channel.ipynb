{
 "metadata": {
  "name": "",
  "signature": "sha256:cf23c4b20a60e323b691e2813968792374b93081545ff5ad70f23a9b063cc8db"
 },
 "nbformat": 3,
 "nbformat_minor": 0,
 "worksheets": [
  {
   "cells": [
    {
     "cell_type": "markdown",
     "metadata": {},
     "source": [
      "(cc) 2014 Renan Birck <renan.ee.ufsm@gmail.com>. "
     ]
    },
    {
     "cell_type": "markdown",
     "metadata": {},
     "source": [
      "This was originally done for the class \"Advanced Topics in Telecommunications Systems\" that is part of the courses of Electrical and Computer Engineering at the Federal University of Santa Maria, Brazil.\n",
      "\n",
      "Initially this was done in MATLAB but then, after the class finished, I decided to redo this in Python to show that it can easily replace MATLAB for most students."
     ]
    },
    {
     "cell_type": "heading",
     "level": 1,
     "metadata": {},
     "source": [
      "Theory"
     ]
    },
    {
     "cell_type": "markdown",
     "metadata": {},
     "source": [
      "Be a channel subject to Additive White Gaussian noise (AWGN). It can be shown that, for transmitting data using Binary Phase Shift Keying (BPSK), the bit error-rate can be calculated by $BER = \\frac{erfc(\\sqrt {SNR})}{2}$. I will demonstrate this by simulation:"
     ]
    },
    {
     "cell_type": "code",
     "collapsed": false,
     "input": [
      "# The imports we need.\n",
      "import numpy as np, scipy as sp, scipy.special as spc, matplotlib.pyplot as plt, time"
     ],
     "language": "python",
     "metadata": {},
     "outputs": [],
     "prompt_number": 156
    },
    {
     "cell_type": "code",
     "collapsed": false,
     "input": [
      "# Define some useful functions\n",
      "def BPSK_Encode(data):\n",
      "    \"\"\" Encode the data given in the vector in BPSK. \n",
      "        Maps [0,1] -> [-1,1]\n",
      "    \"\"\"\n",
      "    return 2*np.array(data)-1\n",
      "\n",
      "def BER(tx, rx):\n",
      "    \"\"\" Returns the number of wrong bits between TX and RX. \"\"\"\n",
      "    if len(tx) != len(rx):\n",
      "        raise ValueError(\"Both TX and RX should have the same length\")\n",
      "    \n",
      "    return np.count_nonzero(np.array(tx) != np.array(rx))/len(tx)\n",
      "\n",
      "num_bits = 1000000 # Number of bits to be transmitted.\n",
      "SNRs = range(-30, 30, 1) # The range of signal-to-noise ratios to use.\n",
      "\n",
      "data = np.random.randint(0, high=2, size=num_bits) # The data to transmit.\n",
      "BPSK_encoded_data = BPSK_Encode(data)\n",
      "\n",
      "# Some validation...\n",
      "assert(BER([0,0], [0,0]) == 0)\n"
     ],
     "language": "python",
     "metadata": {},
     "outputs": [],
     "prompt_number": 152
    },
    {
     "cell_type": "markdown",
     "metadata": {},
     "source": [
      "This takes a while to run on my machine due to the big number of bits, it could be optimized to use multiple cores."
     ]
    },
    {
     "cell_type": "code",
     "collapsed": false,
     "input": [
      "BERs = []\n",
      "theory_BERs = []\n",
      "tic = time.time()\n",
      "for SNR in SNRs:\n",
      "    print(\"SNR = {} dB...\".format(SNR)) # Only to see how it's going...\n",
      "    \n",
      "    channel_power = 10**(SNR/10) # Convert from dB to linear units\n",
      "    AWGN_channel = (np.random.randn(num_bits) + 1j*np.random.randn(num_bits))*sqrt(1/2) # Noisy channel\n",
      "    \n",
      "    received = sqrt(channel_power)*BPSK_encoded_data + AWGN_channel # The received data\n",
      "    \n",
      "    # Demodulation\n",
      "    \n",
      "    estimated = [1 if np.real(bit) >=0 else -1 for bit in received]\n",
      "\n",
      "    BERs.append(BER(estimated, BPSK_encoded_data))\n",
      "\n",
      "    # Compute the theoretical bit error rate\n",
      "    theory_BERs.append(0.5 * spc.erfc(np.sqrt(channel_power)))\n",
      "toc = time.time() - tic\n",
      "print(\"It took {} seconds.\".format(toc))"
     ],
     "language": "python",
     "metadata": {},
     "outputs": [
      {
       "output_type": "stream",
       "stream": "stdout",
       "text": [
        "SNR = -30 dB...\n",
        "SNR = -29 dB..."
       ]
      },
      {
       "output_type": "stream",
       "stream": "stdout",
       "text": [
        "\n",
        "SNR = -28 dB..."
       ]
      },
      {
       "output_type": "stream",
       "stream": "stdout",
       "text": [
        "\n",
        "SNR = -27 dB..."
       ]
      },
      {
       "output_type": "stream",
       "stream": "stdout",
       "text": [
        "\n",
        "SNR = -26 dB..."
       ]
      },
      {
       "output_type": "stream",
       "stream": "stdout",
       "text": [
        "\n",
        "SNR = -25 dB..."
       ]
      },
      {
       "output_type": "stream",
       "stream": "stdout",
       "text": [
        "\n",
        "SNR = -24 dB..."
       ]
      },
      {
       "output_type": "stream",
       "stream": "stdout",
       "text": [
        "\n",
        "SNR = -23 dB..."
       ]
      },
      {
       "output_type": "stream",
       "stream": "stdout",
       "text": [
        "\n",
        "SNR = -22 dB..."
       ]
      },
      {
       "output_type": "stream",
       "stream": "stdout",
       "text": [
        "\n",
        "SNR = -21 dB..."
       ]
      },
      {
       "output_type": "stream",
       "stream": "stdout",
       "text": [
        "\n",
        "SNR = -20 dB..."
       ]
      },
      {
       "output_type": "stream",
       "stream": "stdout",
       "text": [
        "\n",
        "SNR = -19 dB..."
       ]
      },
      {
       "output_type": "stream",
       "stream": "stdout",
       "text": [
        "\n",
        "SNR = -18 dB..."
       ]
      },
      {
       "output_type": "stream",
       "stream": "stdout",
       "text": [
        "\n",
        "SNR = -17 dB..."
       ]
      },
      {
       "output_type": "stream",
       "stream": "stdout",
       "text": [
        "\n",
        "SNR = -16 dB..."
       ]
      },
      {
       "output_type": "stream",
       "stream": "stdout",
       "text": [
        "\n",
        "SNR = -15 dB..."
       ]
      },
      {
       "output_type": "stream",
       "stream": "stdout",
       "text": [
        "\n",
        "SNR = -14 dB..."
       ]
      },
      {
       "output_type": "stream",
       "stream": "stdout",
       "text": [
        "\n",
        "SNR = -13 dB..."
       ]
      },
      {
       "output_type": "stream",
       "stream": "stdout",
       "text": [
        "\n",
        "SNR = -12 dB..."
       ]
      },
      {
       "output_type": "stream",
       "stream": "stdout",
       "text": [
        "\n",
        "SNR = -11 dB..."
       ]
      },
      {
       "output_type": "stream",
       "stream": "stdout",
       "text": [
        "\n",
        "SNR = -10 dB..."
       ]
      },
      {
       "output_type": "stream",
       "stream": "stdout",
       "text": [
        "\n",
        "SNR = -9 dB..."
       ]
      },
      {
       "output_type": "stream",
       "stream": "stdout",
       "text": [
        "\n",
        "SNR = -8 dB..."
       ]
      },
      {
       "output_type": "stream",
       "stream": "stdout",
       "text": [
        "\n",
        "SNR = -7 dB..."
       ]
      },
      {
       "output_type": "stream",
       "stream": "stdout",
       "text": [
        "\n",
        "SNR = -6 dB..."
       ]
      },
      {
       "output_type": "stream",
       "stream": "stdout",
       "text": [
        "\n",
        "SNR = -5 dB..."
       ]
      },
      {
       "output_type": "stream",
       "stream": "stdout",
       "text": [
        "\n",
        "SNR = -4 dB..."
       ]
      },
      {
       "output_type": "stream",
       "stream": "stdout",
       "text": [
        "\n",
        "SNR = -3 dB..."
       ]
      },
      {
       "output_type": "stream",
       "stream": "stdout",
       "text": [
        "\n",
        "SNR = -2 dB..."
       ]
      },
      {
       "output_type": "stream",
       "stream": "stdout",
       "text": [
        "\n",
        "SNR = -1 dB..."
       ]
      },
      {
       "output_type": "stream",
       "stream": "stdout",
       "text": [
        "\n",
        "SNR = 0 dB..."
       ]
      },
      {
       "output_type": "stream",
       "stream": "stdout",
       "text": [
        "\n",
        "SNR = 1 dB..."
       ]
      },
      {
       "output_type": "stream",
       "stream": "stdout",
       "text": [
        "\n",
        "SNR = 2 dB..."
       ]
      },
      {
       "output_type": "stream",
       "stream": "stdout",
       "text": [
        "\n",
        "SNR = 3 dB..."
       ]
      },
      {
       "output_type": "stream",
       "stream": "stdout",
       "text": [
        "\n",
        "SNR = 4 dB..."
       ]
      },
      {
       "output_type": "stream",
       "stream": "stdout",
       "text": [
        "\n",
        "SNR = 5 dB..."
       ]
      },
      {
       "output_type": "stream",
       "stream": "stdout",
       "text": [
        "\n",
        "SNR = 6 dB..."
       ]
      },
      {
       "output_type": "stream",
       "stream": "stdout",
       "text": [
        "\n",
        "SNR = 7 dB..."
       ]
      },
      {
       "output_type": "stream",
       "stream": "stdout",
       "text": [
        "\n",
        "SNR = 8 dB..."
       ]
      },
      {
       "output_type": "stream",
       "stream": "stdout",
       "text": [
        "\n",
        "SNR = 9 dB..."
       ]
      },
      {
       "output_type": "stream",
       "stream": "stdout",
       "text": [
        "\n",
        "SNR = 10 dB..."
       ]
      },
      {
       "output_type": "stream",
       "stream": "stdout",
       "text": [
        "\n",
        "SNR = 11 dB..."
       ]
      },
      {
       "output_type": "stream",
       "stream": "stdout",
       "text": [
        "\n",
        "SNR = 12 dB..."
       ]
      },
      {
       "output_type": "stream",
       "stream": "stdout",
       "text": [
        "\n",
        "SNR = 13 dB..."
       ]
      },
      {
       "output_type": "stream",
       "stream": "stdout",
       "text": [
        "\n",
        "SNR = 14 dB..."
       ]
      },
      {
       "output_type": "stream",
       "stream": "stdout",
       "text": [
        "\n",
        "SNR = 15 dB..."
       ]
      },
      {
       "output_type": "stream",
       "stream": "stdout",
       "text": [
        "\n",
        "SNR = 16 dB..."
       ]
      },
      {
       "output_type": "stream",
       "stream": "stdout",
       "text": [
        "\n",
        "SNR = 17 dB..."
       ]
      },
      {
       "output_type": "stream",
       "stream": "stdout",
       "text": [
        "\n",
        "SNR = 18 dB..."
       ]
      },
      {
       "output_type": "stream",
       "stream": "stdout",
       "text": [
        "\n",
        "SNR = 19 dB..."
       ]
      },
      {
       "output_type": "stream",
       "stream": "stdout",
       "text": [
        "\n",
        "SNR = 20 dB..."
       ]
      },
      {
       "output_type": "stream",
       "stream": "stdout",
       "text": [
        "\n",
        "SNR = 21 dB..."
       ]
      },
      {
       "output_type": "stream",
       "stream": "stdout",
       "text": [
        "\n",
        "SNR = 22 dB..."
       ]
      },
      {
       "output_type": "stream",
       "stream": "stdout",
       "text": [
        "\n",
        "SNR = 23 dB..."
       ]
      },
      {
       "output_type": "stream",
       "stream": "stdout",
       "text": [
        "\n",
        "SNR = 24 dB..."
       ]
      },
      {
       "output_type": "stream",
       "stream": "stdout",
       "text": [
        "\n",
        "SNR = 25 dB..."
       ]
      },
      {
       "output_type": "stream",
       "stream": "stdout",
       "text": [
        "\n",
        "SNR = 26 dB..."
       ]
      },
      {
       "output_type": "stream",
       "stream": "stdout",
       "text": [
        "\n",
        "SNR = 27 dB..."
       ]
      },
      {
       "output_type": "stream",
       "stream": "stdout",
       "text": [
        "\n",
        "SNR = 28 dB..."
       ]
      },
      {
       "output_type": "stream",
       "stream": "stdout",
       "text": [
        "\n",
        "SNR = 29 dB..."
       ]
      },
      {
       "output_type": "stream",
       "stream": "stdout",
       "text": [
        "\n",
        "It took 450.4778308868408 seconds."
       ]
      },
      {
       "output_type": "stream",
       "stream": "stdout",
       "text": [
        "\n"
       ]
      }
     ],
     "prompt_number": 157
    },
    {
     "cell_type": "code",
     "collapsed": false,
     "input": [
      "theory_BERs = [BER if BER > 1e-6 else 0 for BER in theory_BERs] # Chop all the very small elements\n",
      "semilogy(SNRs, BERs, 'r-o', SNRs, theory_BERs, 'b-o', SNRs, np.array(BERs) - np.array(theory_BERs), 'k-o')\n",
      "xlabel('SNR (dB)')\n",
      "ylabel('BER')\n",
      "title('SNR x BER for BPSK encoding on AWGN channel')\n",
      "legend(['Simulation', 'Theoretical', 'Difference'])"
     ],
     "language": "python",
     "metadata": {},
     "outputs": [
      {
       "metadata": {},
       "output_type": "pyout",
       "prompt_number": 161,
       "text": [
        "<matplotlib.legend.Legend at 0x7fd8da81a7b8>"
       ]
      },
      {
       "metadata": {},
       "output_type": "display_data",
       "png": "[encoded data removed]",
       "text": [
        "<matplotlib.figure.Figure at 0x7fd8da8ca438>"
       ]
      }
     ],
     "prompt_number": 161
    },
    {
     "cell_type": "markdown",
     "metadata": {},
     "source": [
      "It can be easily seen that the simulated results match the theoretical ones quite well: for very low SNRs the BER is effectively $\\frac{1}{2}$ (as it's a random choice between 0 and 1) while for high SNRs the BER is quite high, eventually becoming zero. To improve the BER we would need diversity algorithms (e.g. MRC, Alamouti etc...) that will be implemented futurely."
     ]
    }
   ],
   "metadata": {}
  }
 ]
}